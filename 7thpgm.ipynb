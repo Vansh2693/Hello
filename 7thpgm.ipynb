{
 "cells": [
  {
   "cell_type": "code",
   "execution_count": null,
   "id": "33a0d644-e71b-43ef-8387-715aee9293e0",
   "metadata": {},
   "outputs": [],
   "source": [
    "import cv2\n",
    "import numpy as np\n",
    "\n",
    "def split_image(image):\n",
    "    height, width = image.shape[:2]\n",
    "    center_x, center_y = width//2, height//2\n",
    "    top_left = image[:center_y, :center_x]\n",
    "    top_right = image[:center_y, center_x:]\n",
    "    bottom_left = image[center_y:, :center_x]\n",
    "    bottom_right = image[center_y:, center_x:]\n",
    "\n",
    "    return top_left, top_right, bottom_left, bottom_right\n",
    "\n",
    "image_path = r\"/Users/yogeshbohara/Downloads/myself.jpeg\"\n",
    "\n",
    "image = cv2.imread(image_path)\n",
    "if image is None:\n",
    "    print(\"Error loading image\")\n",
    "    exit()\n",
    "\n",
    "top_left, top_right, bottom_left, bottom_right = split_image(image)\n",
    "\n",
    "cv2.imshow('Original Image', image)\n",
    "cv2.imshow('Top Left Quadrant', top_left)\n",
    "cv2.imshow('Top Right Quadrant', top_right)\n",
    "cv2.imshow('Bottom Left Quadrant', bottom_left)\n",
    "cv2.imshow('Bottom Right Quadrant', bottom_right)\n",
    "cv2.waitKey(0)\n",
    "\n",
    "cv2.destroyAllWindows()\n",
    "cv2.imshow('Original Image', image)\n",
    "cv2.imshow('Top Left Quadrant', top_left)\n",
    "cv2.waitKey(0)\n",
    "cv2.destroyAllWindows()\n"
   ]
  }
 ],
 "metadata": {
  "kernelspec": {
   "display_name": "Python 3 (ipykernel)",
   "language": "python",
   "name": "python3"
  },
  "language_info": {
   "codemirror_mode": {
    "name": "ipython",
    "version": 3
   },
   "file_extension": ".py",
   "mimetype": "text/x-python",
   "name": "python",
   "nbconvert_exporter": "python",
   "pygments_lexer": "ipython3",
   "version": "3.12.4"
  }
 },
 "nbformat": 4,
 "nbformat_minor": 5
}
