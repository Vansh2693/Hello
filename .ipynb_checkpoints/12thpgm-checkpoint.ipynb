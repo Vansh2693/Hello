{
 "cells": [
  {
   "cell_type": "code",
   "execution_count": null,
   "id": "e3f8763b-23a2-464c-9318-7e203f164f78",
   "metadata": {},
   "outputs": [],
   "source": [
    "import cv2\n",
    "\n",
    "# Load the pre-trained Haar Cascade classifier for face and eye detection\n",
    "face_cascade = cv2.CascadeClassifier(cv2.data.haarcascades + 'haarcascade_frontalface_default.xml')\n",
    "eye_cascade = cv2.CascadeClassifier(cv2.data.haarcascades + 'haarcascade_eye.xml')\n",
    "\n",
    "# Read the input image (replace 'face.jpeg' with the actual image path)\n",
    "image_path = r\"/Users/yogeshbohara/Downloads/myself.jpeg\" \n",
    "image = cv2.imread(image_path)\n",
    "\n",
    "if image is None:\n",
    "    print(\"Error: Image not found!\")\n",
    "    exit()\n",
    "\n",
    "# Convert the image to grayscale\n",
    "gray = cv2.cvtColor(image, cv2.COLOR_BGR2GRAY)\n",
    "\n",
    "# Detect faces in the image\n",
    "faces = face_cascade.detectMultiScale(gray, scaleFactor=1.3, minNeighbors=5)\n",
    "\n",
    "# Draw rectangles around detected faces and detect eyes within each face\n",
    "for (x, y, w, h) in faces:\n",
    "    cv2.rectangle(image, (x, y), (x + w, y + h), (255, 0, 0), 2)\n",
    "    # roi_gray = gray[y:y + h, x:x + w]\n",
    "    # roi_color = image[y:y + h, x:x + w]\n",
    "    \n",
    "    # # Detect eyes within the face region\n",
    "    # eyes = eye_cascade.detectMultiScale(roi_gray, scaleFactor=1.1, minNeighbors=3)\n",
    "    # for (ex, ey, ew, eh) in eyes:\n",
    "    #     cv2.rectangle(roi_color, (ex, ey), (ex + ew, ey + eh), (0, 255, 0), 2)\n",
    "\n",
    "# Save or display the result\n",
    "cv2.imwrite('detected_faces.jpg', image) # Save the result\n",
    "cv2.imshow('Detected Faces', image) # Display the result\n",
    "cv2.waitKey(0)\n",
    "cv2.destroyAllWindows()\n"
   ]
  },
  {
   "cell_type": "code",
   "execution_count": null,
   "id": "74181c0a-626d-40c3-928a-5951179e943b",
   "metadata": {},
   "outputs": [],
   "source": []
  }
 ],
 "metadata": {
  "kernelspec": {
   "display_name": "Python 3 (ipykernel)",
   "language": "python",
   "name": "python3"
  },
  "language_info": {
   "codemirror_mode": {
    "name": "ipython",
    "version": 3
   },
   "file_extension": ".py",
   "mimetype": "text/x-python",
   "name": "python",
   "nbconvert_exporter": "python",
   "pygments_lexer": "ipython3",
   "version": "3.12.4"
  }
 },
 "nbformat": 4,
 "nbformat_minor": 5
}
