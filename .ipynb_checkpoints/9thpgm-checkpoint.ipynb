{
 "cells": [
  {
   "cell_type": "code",
   "execution_count": null,
   "id": "a7d58121-8c8b-4d5b-87c2-902d6f69b119",
   "metadata": {},
   "outputs": [],
   "source": [
    "\n",
    "           \n",
    "import cv2\n",
    "import numpy as np\n",
    "\n",
    "# Load the image\n",
    "image_path = r\"/Users/yogeshbohara/Downloads/myself.jpeg\" \n",
    "img = cv2.imread(image_path)\n",
    "\n",
    "if img is None:\n",
    "    print(\"Error: Image not found!\")\n",
    "    exit()\n",
    "\n",
    "# Convert the image to grayscale\n",
    "gray = cv2.cvtColor(img, cv2.COLOR_BGR2GRAY)\n",
    "\n",
    "# Edge detection\n",
    "edges = cv2.Canny(gray, 100, 200) \n",
    "\n",
    "# Texture extraction\n",
    "kernel = np.ones((5, 5), np.float32) / 25 \n",
    "texture = cv2.filter2D(gray, -1, kernel)\n",
    "\n",
    "# Display the original image, edges, and texture\n",
    "cv2.imshow(\"Original Image\", img)\n",
    "cv2.imshow(\"Edges\", edges)\n",
    "cv2.imshow(\"Texture\", texture)\n",
    "\n",
    "# Wait for a key press and then close all windows\n",
    "cv2.waitKey(0)\n",
    "cv2.destroyAllWindows()\n",
    "\n",
    "\n",
    "\n",
    "\n",
    "\n"
   ]
  }
 ],
 "metadata": {
  "kernelspec": {
   "display_name": "Python 3 (ipykernel)",
   "language": "python",
   "name": "python3"
  },
  "language_info": {
   "codemirror_mode": {
    "name": "ipython",
    "version": 3
   },
   "file_extension": ".py",
   "mimetype": "text/x-python",
   "name": "python",
   "nbconvert_exporter": "python",
   "pygments_lexer": "ipython3",
   "version": "3.12.4"
  }
 },
 "nbformat": 4,
 "nbformat_minor": 5
}
