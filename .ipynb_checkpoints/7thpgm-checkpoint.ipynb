{
 "cells": [
  {
   "cell_type": "code",
   "execution_count": 1,
   "id": "33a0d644-e71b-43ef-8387-715aee9293e0",
   "metadata": {},
   "outputs": [
    {
     "name": "stderr",
     "output_type": "stream",
     "text": [
      "[ WARN:0@0.022] global loadsave.cpp:241 findDecoder imread_('/Users/yogeshbohara/Downloads.jpeg'): can't open/read file: check file path/integrity\n"
     ]
    },
    {
     "name": "stdout",
     "output_type": "stream",
     "text": [
      "Error loading image\n"
     ]
    },
    {
     "ename": "AttributeError",
     "evalue": "'NoneType' object has no attribute 'shape'",
     "output_type": "error",
     "traceback": [
      "\u001b[0;31m---------------------------------------------------------------------------\u001b[0m",
      "\u001b[0;31mAttributeError\u001b[0m                            Traceback (most recent call last)",
      "Cell \u001b[0;32mIn[1], line 21\u001b[0m\n\u001b[1;32m     18\u001b[0m     \u001b[38;5;28mprint\u001b[39m(\u001b[38;5;124m\"\u001b[39m\u001b[38;5;124mError loading image\u001b[39m\u001b[38;5;124m\"\u001b[39m)\n\u001b[1;32m     19\u001b[0m     exit()\n\u001b[0;32m---> 21\u001b[0m top_left, top_right, bottom_left, bottom_right \u001b[38;5;241m=\u001b[39m split_image(image)\n\u001b[1;32m     23\u001b[0m cv2\u001b[38;5;241m.\u001b[39mimshow(\u001b[38;5;124m'\u001b[39m\u001b[38;5;124mOriginal Image\u001b[39m\u001b[38;5;124m'\u001b[39m, image)\n\u001b[1;32m     24\u001b[0m cv2\u001b[38;5;241m.\u001b[39mimshow(\u001b[38;5;124m'\u001b[39m\u001b[38;5;124mTop Left Quadrant\u001b[39m\u001b[38;5;124m'\u001b[39m, top_left)\n",
      "Cell \u001b[0;32mIn[1], line 5\u001b[0m, in \u001b[0;36msplit_image\u001b[0;34m(image)\u001b[0m\n\u001b[1;32m      4\u001b[0m \u001b[38;5;28;01mdef\u001b[39;00m \u001b[38;5;21msplit_image\u001b[39m(image):\n\u001b[0;32m----> 5\u001b[0m     height, width \u001b[38;5;241m=\u001b[39m image\u001b[38;5;241m.\u001b[39mshape[:\u001b[38;5;241m2\u001b[39m]\n\u001b[1;32m      6\u001b[0m     center_x, center_y \u001b[38;5;241m=\u001b[39m width\u001b[38;5;241m/\u001b[39m\u001b[38;5;241m/\u001b[39m\u001b[38;5;241m2\u001b[39m, height\u001b[38;5;241m/\u001b[39m\u001b[38;5;241m/\u001b[39m\u001b[38;5;241m2\u001b[39m\n\u001b[1;32m      7\u001b[0m     top_left \u001b[38;5;241m=\u001b[39m image[:center_y, :center_x]\n",
      "\u001b[0;31mAttributeError\u001b[0m: 'NoneType' object has no attribute 'shape'"
     ]
    }
   ],
   "source": [
    "import cv2\n",
    "import numpy as np\n",
    "\n",
    "def split_image(image):\n",
    "    height, width = image.shape[:2]\n",
    "    center_x, center_y = width//2, height//2\n",
    "    top_left = image[:center_y, :center_x]\n",
    "    top_right = image[:center_y, center_x:]\n",
    "    bottom_left = image[center_y:, :center_x]\n",
    "    bottom_right = image[center_y:, center_x:]\n",
    "\n",
    "    return top_left, top_right, bottom_left, bottom_right\n",
    "\n",
    "image_path = r\"/Users/yogeshbohara/Downloads/myself.jpeg\"\n",
    "\n",
    "image = cv2.imread(image_path)\n",
    "if image is None:\n",
    "    print(\"Error loading image\")\n",
    "    exit()\n",
    "\n",
    "top_left, top_right, bottom_left, bottom_right = split_image(image)\n",
    "\n",
    "cv2.imshow('Original Image', image)\n",
    "cv2.imshow('Top Left Quadrant', top_left)\n",
    "cv2.imshow('Top Right Quadrant', top_right)\n",
    "cv2.imshow('Bottom Left Quadrant', bottom_left)\n",
    "cv2.imshow('Bottom Right Quadrant', bottom_right)\n",
    "cv2.waitKey(0)\n",
    "\n",
    "cv2.destroyAllWindows()\n",
    "cv2.imshow('Original Image', image)\n",
    "cv2.imshow('Top Left Quadrant', top_left)\n",
    "cv2.waitKey(0)\n",
    "cv2.destroyAllWindows()\n"
   ]
  },
  {
   "cell_type": "code",
   "execution_count": null,
   "id": "f586cce6-d84c-46ec-a272-a851510d350c",
   "metadata": {},
   "outputs": [],
   "source": []
  },
  {
   "cell_type": "code",
   "execution_count": null,
   "id": "3d4e9f73-d6c2-40c0-a43b-03bd6a2c5260",
   "metadata": {},
   "outputs": [],
   "source": []
  }
 ],
 "metadata": {
  "kernelspec": {
   "display_name": "Python 3 (ipykernel)",
   "language": "python",
   "name": "python3"
  },
  "language_info": {
   "codemirror_mode": {
    "name": "ipython",
    "version": 3
   },
   "file_extension": ".py",
   "mimetype": "text/x-python",
   "name": "python",
   "nbconvert_exporter": "python",
   "pygments_lexer": "ipython3",
   "version": "3.12.4"
  }
 },
 "nbformat": 4,
 "nbformat_minor": 5
}
