{
 "cells": [
  {
   "cell_type": "code",
   "execution_count": null,
   "id": "cc762d65-71ee-49cf-963c-88c9b8bfd841",
   "metadata": {},
   "outputs": [],
   "source": [
    "import cv2\n",
    "import numpy as np\n",
    "\n",
    "def translate_image(image, dx, dy):\n",
    "    rows, cols = image.shape[:2]\n",
    "    translation_matrix = np.float32([[1, 0, dx], [0, 1, dy]])\n",
    "    translated_image = cv2.warpAffine(image, translation_matrix, (cols, rows))\n",
    "    return translated_image\n",
    "\n",
    "# Read the image\n",
    "image_path = r\"/Users/yogeshbohara/Downloads/myself.jpeg\"\n",
    "image = cv2.imread(image_path)\n",
    "\n",
    "if image is None:\n",
    "    print(\"Error: Image not found!\")\n",
    "    exit()\n",
    "\n",
    "# Get image dimensions\n",
    "height, width = image.shape[:2]\n",
    "\n",
    "# Calculate the center coordinates of the image\n",
    "center = (width // 2, height // 2)\n",
    "\n",
    "# Get user inputs\n",
    "rotation_value = float(input(\"Enter the degree of rotation: \"))\n",
    "scaling_value = float(input(\"Enter the zooming factor (e.g., 1.0 for original size): \"))\n",
    "\n",
    "# Create the 2D rotation matrix\n",
    "rotation_matrix = cv2.getRotationMatrix2D(center=center, angle=rotation_value, scale=1)\n",
    "rotated_image = cv2.warpAffine(src=image, M=rotation_matrix, dsize=(width, height))\n",
    "\n",
    "# Scale the image\n",
    "scaled_image = cv2.resize(rotated_image, (0, 0), fx=scaling_value, fy=scaling_value)\n",
    "\n",
    "# Get translation values\n",
    "h = int(input(\"How many pixels do you want the image to be translated horizontally? \"))\n",
    "v = int(input(\"How many pixels do you want the image to be translated vertically? \"))\n",
    "\n",
    "# Translate the image\n",
    "translated_image = translate_image(scaled_image, dx=h, dy=v)\n",
    "\n",
    "# Save the final image\n",
    "cv2.imwrite('Final_image.png', translated_image)\n",
    "\n",
    "print(\"Image processing complete. The final image is saved as 'Final_image.png'.\")\n"
   ]
  },
  {
   "cell_type": "code",
   "execution_count": null,
   "id": "90aeda8e-badf-43dc-9d77-89fa49639445",
   "metadata": {},
   "outputs": [],
   "source": []
  }
 ],
 "metadata": {
  "kernelspec": {
   "display_name": "Python 3 (ipykernel)",
   "language": "python",
   "name": "python3"
  },
  "language_info": {
   "codemirror_mode": {
    "name": "ipython",
    "version": 3
   },
   "file_extension": ".py",
   "mimetype": "text/x-python",
   "name": "python",
   "nbconvert_exporter": "python",
   "pygments_lexer": "ipython3",
   "version": "3.12.4"
  }
 },
 "nbformat": 4,
 "nbformat_minor": 5
}
